{
 "cells": [
  {
   "cell_type": "code",
   "execution_count": 7,
   "metadata": {},
   "outputs": [
    {
     "name": "stdout",
     "output_type": "stream",
     "text": [
      "高雄市地區總數 38\n",
      "鹽埕區\n",
      "鼓山區\n",
      "左營區\n",
      "楠梓區\n",
      "三民區\n",
      "新興區\n",
      "前金區\n",
      "苓雅區\n",
      "前鎮區\n",
      "旗津區\n",
      "小港區\n",
      "鳳山區\n",
      "林園區\n",
      "大寮區\n",
      "大樹區\n",
      "大社區\n",
      "仁武區\n",
      "鳥松區\n",
      "岡山區\n",
      "橋頭區\n",
      "燕巢區\n",
      "田寮區\n",
      "阿蓮區\n",
      "路竹區\n",
      "湖內區\n",
      "茄萣區\n",
      "永安區\n",
      "彌陀區\n",
      "梓官區\n",
      "旗山區\n",
      "美濃區\n",
      "六龜區\n",
      "甲仙區\n",
      "杉林區\n",
      "內門區\n",
      "茂林區\n",
      "桃源區\n",
      "那瑪夏區\n"
     ]
    }
   ],
   "source": [
    "# 1. 請問高雄市有多少地區有溫度資料？\n",
    "import urllib.request\n",
    "import zipfile,json\n",
    "res=\"http://opendata.cwb.gov.tw/govdownload?dataid=F-D0047-093&authorizationkey=rdec-key-123-45678-011121314\"\n",
    "urllib.request.urlretrieve(res,'./data/example.zip')#下載檔案\n",
    "file1=zipfile.ZipFile('./data/example.zip')#開啟\n",
    "file1.extractall('./data')#對data內所有檔案解壓縮\n",
    "\n",
    "import xmltodict\n",
    "with open('./data/64_72hr_CH.xml',encoding='utf-8') as kf:\n",
    "    dict_k=xmltodict.parse(kf.read())#也可用dict()將orderedDict 轉成一般字典\n",
    "    location=dict_k['cwbopendata']['dataset']['locations']['location']#以type()檢查資料型態為list\n",
    "    length=len(location)\n",
    "    print('高雄市地區總數',length)\n",
    "    n=0\n",
    "    while n<length:\n",
    "        print(location[n]['locationName'])\n",
    "        n+=1# 1. 請問高雄市有多少地區有溫度資料？\n"
   ]
  },
  {
   "cell_type": "code",
   "execution_count": 8,
   "metadata": {},
   "outputs": [
    {
     "name": "stdout",
     "output_type": "stream",
     "text": [
      "鹽埕區 2020-02-10T18:00:00+08:00 21\n",
      "鼓山區 2020-02-10T18:00:00+08:00 21\n",
      "左營區 2020-02-10T18:00:00+08:00 21\n",
      "楠梓區 2020-02-10T18:00:00+08:00 21\n",
      "三民區 2020-02-10T18:00:00+08:00 21\n",
      "新興區 2020-02-10T18:00:00+08:00 21\n",
      "前金區 2020-02-10T18:00:00+08:00 21\n",
      "苓雅區 2020-02-10T18:00:00+08:00 21\n",
      "前鎮區 2020-02-10T18:00:00+08:00 21\n",
      "旗津區 2020-02-10T18:00:00+08:00 21\n",
      "小港區 2020-02-10T18:00:00+08:00 22\n",
      "鳳山區 2020-02-10T18:00:00+08:00 22\n",
      "林園區 2020-02-10T18:00:00+08:00 22\n",
      "大寮區 2020-02-10T18:00:00+08:00 22\n",
      "大樹區 2020-02-10T18:00:00+08:00 22\n",
      "大社區 2020-02-10T18:00:00+08:00 22\n",
      "仁武區 2020-02-10T18:00:00+08:00 21\n",
      "鳥松區 2020-02-10T18:00:00+08:00 22\n",
      "岡山區 2020-02-10T18:00:00+08:00 21\n",
      "橋頭區 2020-02-10T18:00:00+08:00 22\n",
      "燕巢區 2020-02-10T18:00:00+08:00 21\n",
      "田寮區 2020-02-10T18:00:00+08:00 20\n",
      "阿蓮區 2020-02-10T18:00:00+08:00 20\n",
      "路竹區 2020-02-10T18:00:00+08:00 21\n",
      "湖內區 2020-02-10T18:00:00+08:00 20\n",
      "茄萣區 2020-02-10T18:00:00+08:00 20\n",
      "永安區 2020-02-10T18:00:00+08:00 20\n",
      "彌陀區 2020-02-10T18:00:00+08:00 20\n",
      "梓官區 2020-02-10T18:00:00+08:00 20\n",
      "旗山區 2020-02-10T18:00:00+08:00 21\n",
      "美濃區 2020-02-10T18:00:00+08:00 22\n",
      "六龜區 2020-02-10T18:00:00+08:00 19\n",
      "甲仙區 2020-02-10T18:00:00+08:00 18\n",
      "杉林區 2020-02-10T18:00:00+08:00 21\n",
      "內門區 2020-02-10T18:00:00+08:00 20\n",
      "茂林區 2020-02-10T18:00:00+08:00 19\n",
      "桃源區 2020-02-10T18:00:00+08:00 16\n",
      "那瑪夏區 2020-02-10T18:00:00+08:00 15\n"
     ]
    }
   ],
   "source": [
    "# 2. 請取出每一個地區所記錄的第一個時間點跟溫度(結果是即時溫度，每次取都不一樣)\n",
    "\n",
    "def locationTemperature(n):\n",
    "    with open('./data/64_72hr_CH.xml',encoding='utf-8') as kf:\n",
    "        dict_k=xmltodict.parse(kf.read())\n",
    "        location=dict_k['cwbopendata']['dataset']['locations']['location'][n]#指定列表中的高雄某38個地區之一\n",
    "        weatherElement=location['weatherElement']#某地區的天氣因子(有數個天氣因子，資料型態為list)\n",
    "        t=weatherElement[0]#第一個天氣因子是溫度\n",
    "        time=t['time'][0]#取測量溫度的時間(型態為list)，指定第一個時間\n",
    "        datatime=time['dataTime']#取時間點\n",
    "        value=time['elementValue']['value']\n",
    "        locationName=location['locationName']\n",
    "        print(locationName,datatime,value)#印出所取的時間點和溫度\n",
    "\n",
    "#使用函數印出所有地區的第一個時間(00:00)和溫度\n",
    "\n",
    "for n in range(0,38):\n",
    "    locationTemperature(n)"
   ]
  },
  {
   "cell_type": "code",
   "execution_count": 9,
   "metadata": {},
   "outputs": [
    {
     "name": "stdout",
     "output_type": "stream",
     "text": [
      "鹽埕區\n",
      "2020-02-10T18:00:00+08:00 21\n",
      "2020-02-10T21:00:00+08:00 19\n",
      "2020-02-11T00:00:00+08:00 18\n",
      "2020-02-11T03:00:00+08:00 18\n",
      "2020-02-11T06:00:00+08:00 17\n",
      "2020-02-11T09:00:00+08:00 18\n",
      "2020-02-11T12:00:00+08:00 22\n",
      "2020-02-11T15:00:00+08:00 23\n",
      "2020-02-11T18:00:00+08:00 22\n",
      "2020-02-11T21:00:00+08:00 20\n",
      "2020-02-12T00:00:00+08:00 20\n",
      "2020-02-12T03:00:00+08:00 19\n",
      "2020-02-12T06:00:00+08:00 18\n",
      "2020-02-12T09:00:00+08:00 20\n",
      "2020-02-12T12:00:00+08:00 25\n",
      "2020-02-12T15:00:00+08:00 26\n",
      "2020-02-12T18:00:00+08:00 24\n",
      "2020-02-12T21:00:00+08:00 23\n",
      "2020-02-13T00:00:00+08:00 22\n",
      "2020-02-13T03:00:00+08:00 22\n",
      "2020-02-13T06:00:00+08:00 21\n",
      "2020-02-13T09:00:00+08:00 22\n",
      "2020-02-13T12:00:00+08:00 26\n",
      "2020-02-13T15:00:00+08:00 26\n"
     ]
    }
   ],
   "source": [
    "# 3. 請取出第一個地區所記錄的每一個時間點跟溫度\n",
    "def locationTemperature(n):\n",
    "    with open('./data/64_72hr_CH.xml',encoding='utf-8') as kf:\n",
    "            dict_k=xmltodict.parse(kf.read())\n",
    "            t=dict_k['cwbopendata']['dataset']['locations']['location'][0]['weatherElement'][0]['time']#指定列表中的第一個地區的第一個天氣因子(溫度)\n",
    "            datatime=t[n]['dataTime']#指定某個測量溫度的時間\n",
    "            value=t[n]['elementValue']['value']\n",
    "            print(datatime,value)#印出所取的時間點和溫度\n",
    "\n",
    "print('鹽埕區')\n",
    "for n in range(0,24):\n",
    "    locationTemperature(n)"
   ]
  },
  {
   "cell_type": "code",
   "execution_count": null,
   "metadata": {},
   "outputs": [],
   "source": []
  }
 ],
 "metadata": {
  "kernelspec": {
   "display_name": "Python 3",
   "language": "python",
   "name": "python3"
  },
  "language_info": {
   "codemirror_mode": {
    "name": "ipython",
    "version": 3
   },
   "file_extension": ".py",
   "mimetype": "text/x-python",
   "name": "python",
   "nbconvert_exporter": "python",
   "pygments_lexer": "ipython3",
   "version": "3.7.3"
  }
 },
 "nbformat": 4,
 "nbformat_minor": 2
}
