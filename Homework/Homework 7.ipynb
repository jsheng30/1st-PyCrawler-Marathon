{
 "cells": [
  {
   "cell_type": "markdown",
   "metadata": {},
   "source": [
    "# HTTP 靜態網頁架構說明\n",
    "\n",
    "* 認識靜態網頁的溝通架構與運作原理\n",
    "* HTML、CSS、JavaScript 在網頁中扮演的角色\n",
    "* 網頁中定位資料的方法"
   ]
  },
  {
   "cell_type": "markdown",
   "metadata": {},
   "source": [
    "## 作業目標\n",
    "\n",
    "1. （簡答題）請問目前提到的這種基於 HTTP 一來一回的網頁傳輸方式，有哪些缺點及問題？\n",
    "2. （簡答題）網頁中使用的 JavaScipt 程式語言，跟我們一般使用的 Python 在執行上有什麼不同。\n"
   ]
  },
  {
   "cell_type": "markdown",
   "metadata": {},
   "source": [
    "### 1.（簡答題）請問目前提到的這種基於 HTTP 一來一回的網頁傳輸方式，有哪些缺點及問題？"
   ]
  },
  {
   "cell_type": "markdown",
   "metadata": {},
   "source": [
    "主要是個資安全問題！HTTP 存在著大量的灰色中間環節，相關信息很容易被竊取\n",
    "\n",
    "原文網址：https://kknews.cc/tech/ae8oka6.html"
   ]
  },
  {
   "cell_type": "markdown",
   "metadata": {},
   "source": [
    "### 2. （簡答題）網頁中使用的 JavaScipt 程式語言，跟我們一般使用的 Python 在執行上有什麼不同。"
   ]
  },
  {
   "cell_type": "markdown",
   "metadata": {},
   "source": [
    "JavaScript是一種腳本語言，換句話說，它通過網站和應用程序的自動化流程令用戶做使用時更輕鬆。 JavaScript最初是作為一種前端語言出現的，它為瀏覽器提供了動態功能，而這些功能是HTML和CSS無法實現的。 在2009年Node.js作為後端語言出現後，開發人員便可以使用JavaScript對前端和服務器端進行編程，JavaScript的普及率大增。\n",
    "\n",
    "另一方面，Python是一種物件導向程式設計(Object-oriented programming)的編程語言。 這種編碼語言允許程序員使用虛擬構建塊來構建應用程序和網站。Python透過物件模型為編程員提供清晰結構和更真實動態來降低複雜性。\n",
    "\n",
    "原文網址 ：https://xccelerate.co/blog/python-vs-javascript-cn\n",
    "\n"
   ]
  },
  {
   "cell_type": "code",
   "execution_count": null,
   "metadata": {},
   "outputs": [],
   "source": []
  }
 ],
 "metadata": {
  "kernelspec": {
   "display_name": "Python 3",
   "language": "python",
   "name": "python3"
  },
  "language_info": {
   "codemirror_mode": {
    "name": "ipython",
    "version": 3
   },
   "file_extension": ".py",
   "mimetype": "text/x-python",
   "name": "python",
   "nbconvert_exporter": "python",
   "pygments_lexer": "ipython3",
   "version": "3.7.3"
  }
 },
 "nbformat": 4,
 "nbformat_minor": 2
}
