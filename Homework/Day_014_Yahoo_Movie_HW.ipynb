{
 "cells": [
  {
   "cell_type": "markdown",
   "metadata": {},
   "source": [
    "# YAHOO電影爬蟲練習\n",
    "## 練習爬取電影放映資訊。必須逐步獲取電影的代號、放映地區、放映日期後，再送出查詢給伺服器。"
   ]
  },
  {
   "cell_type": "code",
   "execution_count": 1,
   "metadata": {},
   "outputs": [],
   "source": [
    "import requests\n",
    "import re\n",
    "from bs4 import BeautifulSoup"
   ]
  },
  {
   "cell_type": "markdown",
   "metadata": {},
   "source": [
    "### 先搜尋全部的電影代號(ID)資訊"
   ]
  },
  {
   "cell_type": "code",
   "execution_count": 2,
   "metadata": {},
   "outputs": [
    {
     "name": "stdout",
     "output_type": "stream",
     "text": [
      "Movie: 逃出夢幻島, ID: 10485\n",
      "Movie: 雨天．紐約, ID: 10476\n",
      "Movie: 戰慄魔胎, ID: 10471\n",
      "Movie: 殺不了的他與死不了的她, ID: 10467\n",
      "Movie: 失控少年兵團, ID: 10456\n",
      "Movie: 超＂人＂氣動物園, ID: 10445\n",
      "Movie: 就愛斷捨離, ID: 10436\n",
      "Movie: 全境失控, ID: 10426\n",
      "Movie: 謎夜拼圖, ID: 10418\n",
      "Movie: 尋愛夢工廠, ID: 10400\n",
      "Movie: 愛情人形, ID: 10394\n",
      "Movie: 我的寶貝男孩, ID: 10489\n",
      "Movie: 我們的相愛時光, ID: 10460\n",
      "Movie: 蜜蜂與遠雷, ID: 10419\n",
      "Movie: 電影版 輝夜姬想讓人告白～天才們的戀愛頭腦戰～, ID: 10405\n",
      "Movie: 古曼童, ID: 10399\n",
      "Movie: 猛禽小隊：小丑女大解放, ID: 10268\n",
      "Movie: 鬼魅之家, ID: 10459\n",
      "Movie: 熱帶雨, ID: 10448\n",
      "Movie: 只想受到你的歡迎, ID: 10411\n",
      "Movie: 紅鞋公主與七矮人, ID: 10417\n",
      "Movie: 黑水風暴, ID: 10398\n",
      "Movie: 1917, ID: 10189\n",
      "Movie: 肥龍過江, ID: 10449\n",
      "Movie: 你的情歌, ID: 10407\n",
      "Movie: 紳士追殺令, ID: 10317\n",
      "Movie: 杜立德, ID: 10316\n",
      "Movie: 深海終劫站, ID: 10230\n",
      "Movie: 她們, ID: 10202\n",
      "Movie: 變身特務, ID: 9008\n",
      "Movie: 然後我們跳了舞, ID: 10451\n",
      "Movie: 巧虎電影：英雄遊樂園, ID: 10429\n",
      "Movie: 在黑暗中漫舞：20週年數位修復版, ID: 10428\n",
      "Movie: 不完美的正義, ID: 10243\n",
      "Movie: 絕地戰警FOR LIFE, ID: 10242\n",
      "Movie: 星星知我心, ID: 10409\n",
      "Movie: 重磅腥聞, ID: 10320\n",
      "Movie: 兔嘲男孩, ID: 10283\n",
      "Movie: 倒數計死, ID: 10390\n",
      "Movie: 吹哨人, ID: 10381\n",
      "Movie: 潛艦追緝, ID: 10333\n",
      "Movie: 白頭山：半島浩劫, ID: 10354\n",
      "Movie: 怨靈古堡, ID: 10356\n",
      "Movie: 茱蒂, ID: 10112\n",
      "Movie: 燃燒女子的畫像, ID: 10069\n",
      "Movie: 葉問4：完結篇, ID: 9890\n",
      "Movie: 黑計畫, ID: 10351\n",
      "Movie: 8級警戒, ID: 10323\n",
      "Movie: 大說謊家, ID: 10122\n",
      "Movie: 布魯克林孤兒, ID: 10224\n",
      "Movie: 暴走曼哈頓, ID: 10044\n",
      "Movie: 賽道狂人, ID: 10097\n",
      "Movie: 82年生的金智英, ID: 10298\n",
      "Movie: 冰雪奇緣2, ID: 9597\n",
      "Movie: 萬萬沒想到, ID: 10281\n",
      "Movie: 救火奶爸, ID: 10164\n",
      "Movie: 決戰中途島, ID: 10130\n",
      "Movie: 安眠醫生, ID: 10098\n",
      "Movie: 魔鬼終結者：黑暗宿命, ID: 10067\n",
      "Movie: 絕鯊47：猛鯊出籠, ID: 10214\n",
      "Movie: 陪你很久很久, ID: 10160\n",
      "Movie: 雙子殺手, ID: 10017\n",
      "Movie: 黑魔女2, ID: 10262\n",
      "Movie: 江湖無難事, ID: 10241\n",
      "Movie: 小丑, ID: 9949\n",
      "Movie: 無間行動, ID: 10155\n",
      "Movie: 囧媽的極地任務, ID: 7772\n",
      "Movie: 返校, ID: 10109\n",
      "Movie: 天氣之子, ID: 10091\n",
      "Movie: 亂世佳人, ID: 10170\n",
      "Movie: 從前，有個好萊塢, ID: 9884\n",
      "Movie: 寄生上流, ID: 10020\n",
      "Movie: 亂, ID: 7149\n",
      "Movie: 一首搖滾上月球, ID: 4887\n",
      "Movie: 錢不夠用2, ID: 3026\n"
     ]
    }
   ],
   "source": [
    "# 查看目前上映那些電影，並擷取出其ID資訊\n",
    "url = 'https://movies.yahoo.com.tw/'\n",
    "resp = requests.get(url)\n",
    "resp.encoding = 'utf-8'\n",
    "\n",
    "soup = BeautifulSoup(resp.text, 'lxml')\n",
    "html = soup.find(\"select\", attrs={'name':'movie_id'})\n",
    "movie_item = html.find_all(\"option\", attrs={'data-name':re.compile('.*')})\n",
    "\n",
    "for p in movie_item:\n",
    "    print(\"Movie: %s, ID: %s\" % (p[\"data-name\"], p[\"value\"]))"
   ]
  },
  {
   "cell_type": "markdown",
   "metadata": {},
   "source": [
    "### 指定你有興趣的電影其ID，然後查詢其放映地區資訊。"
   ]
  },
  {
   "cell_type": "code",
   "execution_count": 3,
   "metadata": {},
   "outputs": [],
   "source": [
    "# 參考前一個步驟中擷取到的ID資訊，並指定ID\n",
    "movie_id = 10020"
   ]
  },
  {
   "cell_type": "code",
   "execution_count": 4,
   "metadata": {},
   "outputs": [
    {
     "name": "stdout",
     "output_type": "stream",
     "text": [
      "放映地區: 台北市, 代號(area_id): 28\n",
      "放映地區: 新北市, 代號(area_id): 8\n",
      "放映地區: 桃園, 代號(area_id): 16\n",
      "放映地區: 新竹, 代號(area_id): 20\n",
      "放映地區: 苗栗, 代號(area_id): 15\n",
      "放映地區: 台中, 代號(area_id): 2\n",
      "放映地區: 台南, 代號(area_id): 10\n",
      "放映地區: 高雄, 代號(area_id): 17\n"
     ]
    }
   ],
   "source": [
    "url = 'https://movies.yahoo.com.tw/api/v1/areas_by_movie_theater'\n",
    "payload = {'movie_id':str(movie_id)}\n",
    "\n",
    "# 模擬一個header\n",
    "headers = {\n",
    "    'authority': 'movies.yahoo.com.tw',\n",
    "    'method': 'GET',\n",
    "    'path': '/api/v1/areas_by_movie_theater?movie_id=' + str(movie_id),\n",
    "    'scheme': 'https',\n",
    "    'accept': 'application/json, text/javascript, */*; q=0.01',\n",
    "    'accept-encoding': 'gzip, deflate, br',\n",
    "    'accept-language': 'zh-TW,zh;q=0.9,en-US;q=0.8,en;q=0.7,zh-CN;q=0.6',\n",
    "    'cookie': 'rxx=9s3x2fws06.1g16irnc&v=1; _ga=GA1.3.2056742944.1551651301; GUC=AQEBAQFczFpdm0IfmwSB&s=AQAAACoo4N5D&g=XMsVBw; BX=4hkdk1decm57t&b=3&s=mr; _ga=GA1.4.2056742944.1551651301; nexagesuid=82843256dd234e8e91aa73f2062f8218; browsed_movie=eyJpdiI6IlJXWWtiSWJaZlNGK2MxQnhscnVUYWc9PSIsInZhbHVlIjoiMXRhMmVHRXRIeUNjc1RBWDJzdGYwbnlIQURmWGsrcjJSMzhkbkcraDNJVUNIZEZsbzU3amlFcVZ1NzlmazJrTGpoMjVrbHk1YmpoRENXaHZTOUw1TmI2ZTZVWHdOejZQZm16RmVuMWlHTTJLaTZLVFZZVkFOMDlTd1wvSGltcytJIiwibWFjIjoiZWQ2ZjA4MmVjZmZlYjlmNjJmYmY2NGMyMDI0Njc0NWViYjVkOWE2NDg0N2RhODMxZjBjZDhiMmJhZTc2MDZhYiJ9; avi=eyJpdiI6Im1NeWFJRlVRWDR1endEcGRGUGJUbVE9PSIsInZhbHVlIjoickRpU3JuUytmcGl6cjF5OW0rNU9iZz09IiwibWFjIjoiY2VmY2NkNzZmM2NhNjY5YzlkOTcyNjE5OGEyMzU0NWYxOTdmMDRkMDY3OWNmMmZjOTMxYjc5MjI5N2Q5NGE5MiJ9; cmp=t=1559391030&j=0; _gid=GA1.4.779543841.1559391031; XSRF-TOKEN=eyJpdiI6IkhpS2hGcDRQaHlmWUJmaHdSS2Q2bHc9PSIsInZhbHVlIjoiOUVoNFk4OHI1UUZmUWRtYXhza0MyWjJSTlhlZ3RnT0VGeVJPN2JuczVRMGRFdWt2OUlsamVKeHRobFwvcHBGM0dhU3VyMXNGTHlsb2dVM2l0U1hpUGxBPT0iLCJtYWMiOiJkZWU4YzJhNjAxMTY3MzE4Y2ExNWIxYmE1ZjE1YWZlZTlhOTcyYjc4M2RlZGY4ZWNjZDYyMTA2NGYwZGViMzc2In0%3D; m_s=eyJpdiI6InpsZHZ2Tk1BZ0dxaHhETml1RjBnUXc9PSIsInZhbHVlIjoiSkNGeHUranRoXC85bDFiaDhySTJqNkJRcWdjWUxjeVRJSHVYZ1wvd2d4bWJZUTUrSHVDM0lUcW5KNHdETFZ4T1lieU81OUhzc1VoUXhZcWk0UDZSQXVFdz09IiwibWFjIjoiYmJkMDJkMDhlODIzMzcyMWY4M2NmYWNjNGVlOWRjMDIwZmVmNzAyMjE3Yzg3ZGY3ODBkZWEzZTI4MTI5ZWNmOSJ9; _gat=1; nexagesd=10',\n",
    "    'dnt': '1',\n",
    "    'mv-authorization': '21835b082e15b91a69b3851eec7b31b82ce82afb',\n",
    "    'referer': 'https://movies.yahoo.com.tw/',\n",
    "    'user-agent': 'Mozilla/5.0 (Windows NT 10.0; Win64; x64) AppleWebKit/537.36 (KHTML, like Gecko) Chrome/74.0.3729.169 Safari/537.36',\n",
    "    'x-requested-with': 'XMLHttpRequest',\n",
    "}\n",
    "    \n",
    "resp = requests.get(url, params=payload, headers=headers)\n",
    "#print(resp.json())  # 若有需要，列印出json原始碼\n",
    "\n",
    "# 這裡回傳的格式是JSON格式的資料，要解析JSON擷取資料\n",
    "for p in resp.json():\n",
    "    print('放映地區: {0}, 代號(area_id): {1}'.format(p['title'], p['area_id']))"
   ]
  },
  {
   "cell_type": "markdown",
   "metadata": {},
   "source": [
    "### 指定你想要觀看的放映地區，查詢有上映電影的場次日期"
   ]
  },
  {
   "cell_type": "code",
   "execution_count": 5,
   "metadata": {},
   "outputs": [],
   "source": [
    "# 指定放映地區\n",
    "area_id = 20"
   ]
  },
  {
   "cell_type": "code",
   "execution_count": 6,
   "metadata": {},
   "outputs": [
    {
     "name": "stdout",
     "output_type": "stream",
     "text": [
      "二月 15\n",
      "二月 16\n",
      "二月 17\n",
      "二月 18\n",
      "二月 19\n"
     ]
    }
   ],
   "source": [
    "# 向網站發送請求\n",
    "url = 'https://movies.yahoo.com.tw/movietime_result.html'\n",
    "payload = {'movie_id':str(movie_id), 'area_id':str(area_id)}\n",
    "resp = requests.get(url, params=payload)\n",
    "resp.encoding = 'utf-8'\n",
    "\n",
    "soup = BeautifulSoup(resp.text, 'lxml')\n",
    "movie_date = soup.find_all(\"label\", attrs={'for':re.compile(\"date_[\\d]\")})\n",
    "\n",
    "# 列印播放日期\n",
    "for date in movie_date:\n",
    "    print(\"%s %s\" % (date.p.string, date.h3.string))"
   ]
  },
  {
   "cell_type": "markdown",
   "metadata": {},
   "source": [
    "### 最後指定觀看的日期，查詢並列印出放映的電影院、放映類型(數位、3D、IMAX 3D...)、放映時間等資訊。"
   ]
  },
  {
   "cell_type": "code",
   "execution_count": 7,
   "metadata": {},
   "outputs": [],
   "source": [
    "# 選定要觀看的日期\n",
    "date = \"2020-2-15\""
   ]
  },
  {
   "cell_type": "code",
   "execution_count": 10,
   "metadata": {},
   "outputs": [
    {
     "ename": "KeyError",
     "evalue": "'view'",
     "output_type": "error",
     "traceback": [
      "\u001b[1;31m---------------------------------------------------------------------------\u001b[0m",
      "\u001b[1;31mKeyError\u001b[0m                                  Traceback (most recent call last)",
      "\u001b[1;32m<ipython-input-10-9b5fa5f313e6>\u001b[0m in \u001b[0;36m<module>\u001b[1;34m\u001b[0m\n\u001b[0;32m     11\u001b[0m \u001b[1;31m#print(resp.json()['view'])  # 若有需要，列印出json原始碼\u001b[0m\u001b[1;33m\u001b[0m\u001b[1;33m\u001b[0m\u001b[1;33m\u001b[0m\u001b[0m\n\u001b[0;32m     12\u001b[0m \u001b[1;33m\u001b[0m\u001b[0m\n\u001b[1;32m---> 13\u001b[1;33m \u001b[0msoup\u001b[0m \u001b[1;33m=\u001b[0m \u001b[0mBeautifulSoup\u001b[0m\u001b[1;33m(\u001b[0m\u001b[0mresp\u001b[0m\u001b[1;33m.\u001b[0m\u001b[0mjson\u001b[0m\u001b[1;33m(\u001b[0m\u001b[1;33m)\u001b[0m\u001b[1;33m[\u001b[0m\u001b[1;34m'view'\u001b[0m\u001b[1;33m]\u001b[0m\u001b[1;33m,\u001b[0m \u001b[1;34m'lxml'\u001b[0m\u001b[1;33m)\u001b[0m\u001b[1;33m\u001b[0m\u001b[1;33m\u001b[0m\u001b[0m\n\u001b[0m\u001b[0;32m     14\u001b[0m \u001b[0mhtml\u001b[0m \u001b[1;33m=\u001b[0m \u001b[0msoup\u001b[0m\u001b[1;33m.\u001b[0m\u001b[0mfind_all\u001b[0m\u001b[1;33m(\u001b[0m\u001b[1;34m\"ul\"\u001b[0m\u001b[1;33m,\u001b[0m \u001b[0mattrs\u001b[0m\u001b[1;33m=\u001b[0m\u001b[1;33m{\u001b[0m\u001b[1;34m'data-theater_name'\u001b[0m\u001b[1;33m:\u001b[0m\u001b[0mre\u001b[0m\u001b[1;33m.\u001b[0m\u001b[0mcompile\u001b[0m\u001b[1;33m(\u001b[0m\u001b[1;34m\".*\"\u001b[0m\u001b[1;33m)\u001b[0m\u001b[1;33m}\u001b[0m\u001b[1;33m)\u001b[0m\u001b[1;33m\u001b[0m\u001b[1;33m\u001b[0m\u001b[0m\n",
      "\u001b[1;31mKeyError\u001b[0m: 'view'"
     ]
    }
   ],
   "source": [
    "# 向網站發送請求，獲取上映的電影院及時間資訊\n",
    "url = \"https://movies.yahoo.com.tw/ajax/pc/get_schedule_by_movie\"\n",
    "payload = {'movie_id':str(movie_id),\n",
    "           'date':date,\n",
    "           'area_id':str(area_id),\n",
    "           'theater_id':'',\n",
    "           'datetime':'',\n",
    "           'movie_type_id':''}\n",
    "\n",
    "resp = requests.get(url, params=payload)\n",
    "#print(resp.json()['view'])  # 若有需要，列印出json原始碼\n",
    "\n",
    "soup = BeautifulSoup(resp.json()['view'], 'lxml')\n",
    "html = soup.find_all(\"ul\", attrs={'data-theater_name':re.compile(\".*\")})"
   ]
  },
  {
   "cell_type": "code",
   "execution_count": 11,
   "metadata": {},
   "outputs": [
    {
     "data": {
      "text/plain": [
       "<select class=\"movie_name\" id=\"sbox_mid\" name=\"movie_id\">\n",
       "<option value=\"\">請選擇片名</option>\n",
       "<option data-name=\"逃出夢幻島\" value=\"10485\">逃出夢幻島</option>\n",
       "<option data-name=\"雨天．紐約\" value=\"10476\">雨天．紐約</option>\n",
       "<option data-name=\"戰慄魔胎\" value=\"10471\">戰慄魔胎</option>\n",
       "<option data-name=\"殺不了的他與死不了的她\" value=\"10467\">殺不了的他與死不了的她</option>\n",
       "<option data-name=\"失控少年兵團\" value=\"10456\">失控少年兵團</option>\n",
       "<option data-name=\"超＂人＂氣動物園\" value=\"10445\">超＂人＂氣動物園</option>\n",
       "<option data-name=\"就愛斷捨離\" value=\"10436\">就愛斷捨離</option>\n",
       "<option data-name=\"全境失控\" value=\"10426\">全境失控</option>\n",
       "<option data-name=\"謎夜拼圖\" value=\"10418\">謎夜拼圖</option>\n",
       "<option data-name=\"尋愛夢工廠\" value=\"10400\">尋愛夢工廠</option>\n",
       "<option data-name=\"愛情人形\" value=\"10394\">愛情人形</option>\n",
       "<option data-name=\"我的寶貝男孩\" value=\"10489\">我的寶貝男孩</option>\n",
       "<option data-name=\"我們的相愛時光\" value=\"10460\">我們的相愛時光</option>\n",
       "<option data-name=\"蜜蜂與遠雷\" value=\"10419\">蜜蜂與遠雷</option>\n",
       "<option data-name=\"電影版 輝夜姬想讓人告白～天才們的戀愛頭腦戰～\" value=\"10405\">電影版 輝夜姬想讓人告白～天才們的戀愛頭腦戰～</option>\n",
       "<option data-name=\"古曼童\" value=\"10399\">古曼童</option>\n",
       "<option data-name=\"猛禽小隊：小丑女大解放\" value=\"10268\">猛禽小隊：小丑女大解放</option>\n",
       "<option data-name=\"鬼魅之家\" value=\"10459\">鬼魅之家</option>\n",
       "<option data-name=\"熱帶雨\" value=\"10448\">熱帶雨</option>\n",
       "<option data-name=\"只想受到你的歡迎\" value=\"10411\">只想受到你的歡迎</option>\n",
       "<option data-name=\"紅鞋公主與七矮人\" value=\"10417\">紅鞋公主與七矮人</option>\n",
       "<option data-name=\"黑水風暴\" value=\"10398\">黑水風暴</option>\n",
       "<option data-name=\"1917\" value=\"10189\">1917</option>\n",
       "<option data-name=\"肥龍過江\" value=\"10449\">肥龍過江</option>\n",
       "<option data-name=\"你的情歌\" value=\"10407\">你的情歌</option>\n",
       "<option data-name=\"紳士追殺令\" value=\"10317\">紳士追殺令</option>\n",
       "<option data-name=\"杜立德\" value=\"10316\">杜立德</option>\n",
       "<option data-name=\"深海終劫站\" value=\"10230\">深海終劫站</option>\n",
       "<option data-name=\"她們\" value=\"10202\">她們</option>\n",
       "<option data-name=\"變身特務\" value=\"9008\">變身特務</option>\n",
       "<option data-name=\"然後我們跳了舞\" value=\"10451\">然後我們跳了舞</option>\n",
       "<option data-name=\"巧虎電影：英雄遊樂園\" value=\"10429\">巧虎電影：英雄遊樂園</option>\n",
       "<option data-name=\"在黑暗中漫舞：20週年數位修復版\" value=\"10428\">在黑暗中漫舞：20週年數位修復版</option>\n",
       "<option data-name=\"不完美的正義\" value=\"10243\">不完美的正義</option>\n",
       "<option data-name=\"絕地戰警FOR LIFE\" value=\"10242\">絕地戰警FOR LIFE</option>\n",
       "<option data-name=\"星星知我心\" value=\"10409\">星星知我心</option>\n",
       "<option data-name=\"重磅腥聞\" value=\"10320\">重磅腥聞</option>\n",
       "<option data-name=\"兔嘲男孩\" value=\"10283\">兔嘲男孩</option>\n",
       "<option data-name=\"倒數計死\" value=\"10390\">倒數計死</option>\n",
       "<option data-name=\"吹哨人\" value=\"10381\">吹哨人</option>\n",
       "<option data-name=\"潛艦追緝\" value=\"10333\">潛艦追緝</option>\n",
       "<option data-name=\"白頭山：半島浩劫\" value=\"10354\">白頭山：半島浩劫</option>\n",
       "<option data-name=\"怨靈古堡\" value=\"10356\">怨靈古堡</option>\n",
       "<option data-name=\"茱蒂\" value=\"10112\">茱蒂</option>\n",
       "<option data-name=\"燃燒女子的畫像\" value=\"10069\">燃燒女子的畫像</option>\n",
       "<option data-name=\"葉問4：完結篇\" value=\"9890\">葉問4：完結篇</option>\n",
       "<option data-name=\"黑計畫\" value=\"10351\">黑計畫</option>\n",
       "<option data-name=\"8級警戒\" value=\"10323\">8級警戒</option>\n",
       "<option data-name=\"大說謊家\" value=\"10122\">大說謊家</option>\n",
       "<option data-name=\"布魯克林孤兒\" value=\"10224\">布魯克林孤兒</option>\n",
       "<option data-name=\"暴走曼哈頓\" value=\"10044\">暴走曼哈頓</option>\n",
       "<option data-name=\"賽道狂人\" value=\"10097\">賽道狂人</option>\n",
       "<option data-name=\"82年生的金智英\" value=\"10298\">82年生的金智英</option>\n",
       "<option data-name=\"冰雪奇緣2\" value=\"9597\">冰雪奇緣2</option>\n",
       "<option data-name=\"萬萬沒想到\" value=\"10281\">萬萬沒想到</option>\n",
       "<option data-name=\"救火奶爸\" value=\"10164\">救火奶爸</option>\n",
       "<option data-name=\"決戰中途島\" value=\"10130\">決戰中途島</option>\n",
       "<option data-name=\"安眠醫生\" value=\"10098\">安眠醫生</option>\n",
       "<option data-name=\"魔鬼終結者：黑暗宿命\" value=\"10067\">魔鬼終結者：黑暗宿命</option>\n",
       "<option data-name=\"絕鯊47：猛鯊出籠\" value=\"10214\">絕鯊47：猛鯊出籠</option>\n",
       "<option data-name=\"陪你很久很久\" value=\"10160\">陪你很久很久</option>\n",
       "<option data-name=\"雙子殺手\" value=\"10017\">雙子殺手</option>\n",
       "<option data-name=\"黑魔女2\" value=\"10262\">黑魔女2</option>\n",
       "<option data-name=\"江湖無難事\" value=\"10241\">江湖無難事</option>\n",
       "<option data-name=\"小丑\" value=\"9949\">小丑</option>\n",
       "<option data-name=\"無間行動\" value=\"10155\">無間行動</option>\n",
       "<option data-name=\"囧媽的極地任務\" value=\"7772\">囧媽的極地任務</option>\n",
       "<option data-name=\"返校\" value=\"10109\">返校</option>\n",
       "<option data-name=\"天氣之子\" value=\"10091\">天氣之子</option>\n",
       "<option data-name=\"亂世佳人\" value=\"10170\">亂世佳人</option>\n",
       "<option data-name=\"從前，有個好萊塢\" value=\"9884\">從前，有個好萊塢</option>\n",
       "<option data-name=\"寄生上流\" value=\"10020\">寄生上流</option>\n",
       "<option data-name=\"亂\" value=\"7149\">亂</option>\n",
       "<option data-name=\"一首搖滾上月球\" value=\"4887\">一首搖滾上月球</option>\n",
       "<option data-name=\"錢不夠用2\" value=\"3026\">錢不夠用2</option>\n",
       "</select>"
      ]
     },
     "execution_count": 11,
     "metadata": {},
     "output_type": "execute_result"
    }
   ],
   "source": [
    "html"
   ]
  },
  {
   "cell_type": "code",
   "execution_count": 12,
   "metadata": {},
   "outputs": [
    {
     "name": "stdout",
     "output_type": "stream",
     "text": [
      "----------------------------------------------------------------------\n"
     ]
    },
    {
     "ename": "TypeError",
     "evalue": "string indices must be integers",
     "output_type": "error",
     "traceback": [
      "\u001b[1;31m---------------------------------------------------------------------------\u001b[0m",
      "\u001b[1;31mTypeError\u001b[0m                                 Traceback (most recent call last)",
      "\u001b[1;32m<ipython-input-12-993ad4400fab>\u001b[0m in \u001b[0;36m<module>\u001b[1;34m\u001b[0m\n\u001b[0;32m      1\u001b[0m \u001b[1;32mfor\u001b[0m \u001b[0mtheater\u001b[0m \u001b[1;32min\u001b[0m \u001b[0mhtml\u001b[0m\u001b[1;33m:\u001b[0m\u001b[1;33m\u001b[0m\u001b[1;33m\u001b[0m\u001b[0m\n\u001b[0;32m      2\u001b[0m     \u001b[0mprint\u001b[0m\u001b[1;33m(\u001b[0m\u001b[1;34m\"----------------------------------------------------------------------\"\u001b[0m\u001b[1;33m)\u001b[0m\u001b[1;33m\u001b[0m\u001b[1;33m\u001b[0m\u001b[0m\n\u001b[1;32m----> 3\u001b[1;33m     \u001b[0mtheater_name\u001b[0m \u001b[1;33m=\u001b[0m \u001b[0mtheater\u001b[0m\u001b[1;33m[\u001b[0m\u001b[1;34m'data-theater_name'\u001b[0m\u001b[1;33m]\u001b[0m\u001b[1;33m\u001b[0m\u001b[1;33m\u001b[0m\u001b[0m\n\u001b[0m\u001b[0;32m      4\u001b[0m     \u001b[0mprint\u001b[0m\u001b[1;33m(\u001b[0m\u001b[1;34m\"電影院:\"\u001b[0m\u001b[1;33m,\u001b[0m \u001b[0mtheater_name\u001b[0m\u001b[1;33m)\u001b[0m\u001b[1;33m\u001b[0m\u001b[1;33m\u001b[0m\u001b[0m\n\u001b[0;32m      5\u001b[0m     \u001b[0mtype\u001b[0m \u001b[1;33m=\u001b[0m \u001b[0mtheater\u001b[0m\u001b[1;33m.\u001b[0m\u001b[0mfind\u001b[0m\u001b[1;33m(\u001b[0m\u001b[0mclass_\u001b[0m\u001b[1;33m=\u001b[0m\u001b[1;34m'tapR'\u001b[0m\u001b[1;33m)\u001b[0m\u001b[1;33m.\u001b[0m\u001b[0mtext\u001b[0m\u001b[1;33m\u001b[0m\u001b[1;33m\u001b[0m\u001b[0m\n",
      "\u001b[1;31mTypeError\u001b[0m: string indices must be integers"
     ]
    }
   ],
   "source": [
    "for theater in html:\n",
    "    print(\"----------------------------------------------------------------------\")\n",
    "    theater_name = theater['data-theater_name']\n",
    "    print(\"電影院:\", theater_name)\n",
    "    type = theater.find(class_='tapR').text\n",
    "    schedule_list = theater.find_all('input', attrs={'name': 'schedule_list'})\n",
    "    print(\"放映類型:\", type)\n",
    "    for schedule in schedule_list:\n",
    "        print(schedule['value'])"
   ]
  },
  {
   "cell_type": "code",
   "execution_count": null,
   "metadata": {},
   "outputs": [],
   "source": []
  }
 ],
 "metadata": {
  "kernelspec": {
   "display_name": "Python 3",
   "language": "python",
   "name": "python3"
  },
  "language_info": {
   "codemirror_mode": {
    "name": "ipython",
    "version": 3
   },
   "file_extension": ".py",
   "mimetype": "text/x-python",
   "name": "python",
   "nbconvert_exporter": "python",
   "pygments_lexer": "ipython3",
   "version": "3.7.3"
  }
 },
 "nbformat": 4,
 "nbformat_minor": 2
}
