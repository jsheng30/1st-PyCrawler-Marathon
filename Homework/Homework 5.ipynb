{
 "cells": [
  {
   "cell_type": "markdown",
   "metadata": {},
   "source": [
    "# API 資料串接 - 以 Dcard API 實作範例\n",
    "\n",
    "* 了解 Dcard API 使用方式與回傳內容\n",
    "* 撰寫程式存取 API 且解析 JSON 格式資料\n"
   ]
  },
  {
   "cell_type": "markdown",
   "metadata": {},
   "source": [
    "## 作業目標\n",
    "\n",
    "* 請利用 API: https://www.dcard.tw/_api/forums/pet/posts?popular=true 回答下列問題：\n",
    "\n",
    "1. 這個 API 一次會回傳幾筆資料？每一筆資料包含哪些欄位？\n",
    "2. 取出每一筆資料的「標題」、「貼文時間」、「留言人數」、「按讚人數」\n",
    "3. 計算熱門/非熱門文章的「平均留言人數」與「平均按讚人數」"
   ]
  },
  {
   "cell_type": "code",
   "execution_count": 1,
   "metadata": {},
   "outputs": [
    {
     "name": "stdout",
     "output_type": "stream",
     "text": [
      "這個 API 一次會回傳30筆資料\n",
      "每一筆資料包含以下資料: dict_keys(['id', 'title', 'excerpt', 'anonymousSchool', 'anonymousDepartment', 'pinned', 'forumId', 'replyId', 'createdAt', 'updatedAt', 'commentCount', 'likeCount', 'withNickname', 'tags', 'topics', 'meta', 'forumName', 'forumAlias', 'gender', 'school', 'replyTitle', 'mediaMeta', 'reactions', 'hidden', 'customStyle', 'isSuspiciousAccount', 'layout', 'withImages', 'withVideos', 'media', 'reportReasonText', 'postAvatar'])\n"
     ]
    }
   ],
   "source": [
    "# 1. 這個 API 一次會回傳幾筆資料？每一筆資料包含哪些欄位？\n",
    "\n",
    "import requests\n",
    "r = requests.get('https://www.dcard.tw/_api/forums/pet/posts?popular=true')\n",
    "response = r.text\n",
    "\n",
    "import json\n",
    "data = json.loads(response)\n",
    "\n",
    "count_number = 0\n",
    "\n",
    "for d in data:\n",
    "    count_number += 1\n",
    "\n",
    "print('這個 API 一次會回傳%s筆資料' % count_number)\n",
    "print('每一筆資料包含以下資料:', data[1].keys())"
   ]
  },
  {
   "cell_type": "code",
   "execution_count": 2,
   "metadata": {},
   "outputs": [
    {
     "name": "stdout",
     "output_type": "stream",
     "text": [
      "標題: 憂鬱症自殘🐱的康復過程（圖多） 貼文時間: 2020-02-10T02:46:08.380Z 留言人數: 40 按讚人數: 2371\n",
      "標題: 元宵的各式型態 貼文時間: 2020-02-09T21:23:56.395Z 留言人數: 13 按讚人數: 543\n",
      "標題: 曬我的小狐狸（其實是柴柴 貼文時間: 2020-02-10T11:20:53.748Z 留言人數: 4 按讚人數: 146\n",
      "標題: 我養了什麼.... 貼文時間: 2020-02-10T11:56:33.421Z 留言人數: 7 按讚人數: 83\n",
      "標題: 小心偷窺 貼文時間: 2020-02-11T01:27:50.723Z 留言人數: 2 按讚人數: 44\n",
      "標題: 朝我狂奔😍😍😍😍😍 貼文時間: 2020-02-10T10:50:13.383Z 留言人數: 0 按讚人數: 39\n",
      "標題: 醜小狗的故事 貼文時間: 2020-02-10T09:52:25.039Z 留言人數: 6 按讚人數: 27\n",
      "標題: 這是我家的大湯圓😂 貼文時間: 2020-02-10T14:27:42.589Z 留言人數: 0 按讚人數: 26\n",
      "標題: 原來是頭受傷啊還以為是頭套呢 貼文時間: 2020-02-10T05:18:55.120Z 留言人數: 0 按讚人數: 25\n",
      "標題: 我家的貓貓很好做梗圖 貼文時間: 2020-02-11T02:33:19.793Z 留言人數: 0 按讚人數: 22\n",
      "標題: 你們也太閃了吧！ 貼文時間: 2020-02-11T01:25:20.376Z 留言人數: 1 按讚人數: 22\n",
      "標題: 菸抽太多的貓🚬 貼文時間: 2020-02-10T17:53:39.180Z 留言人數: 2 按讚人數: 22\n",
      "標題: 快點進乃吸爆間諜草莓蛋糕ψ(｀∇´)ψ 貼文時間: 2020-02-10T10:49:08.055Z 留言人數: 2 按讚人數: 22\n",
      "標題: #影片 會說話的狗狗 貼文時間: 2020-02-10T03:15:56.190Z 留言人數: 0 按讚人數: 17\n",
      "標題: 喵表示無奈 貼文時間: 2020-02-09T19:57:34.190Z 留言人數: 2 按讚人數: 11\n",
      "標題: 邱坤豐假領養真屠殺20犬案二審 貼文時間: 2020-02-10T17:00:06.679Z 留言人數: 8 按讚人數: 10\n",
      "標題: 馬麻說我是賠錢貨😂jkjk 貼文時間: 2020-02-11T05:59:30.813Z 留言人數: 8 按讚人數: 9\n",
      "標題: 愛貓認養❣️ 貼文時間: 2020-02-10T14:43:05.147Z 留言人數: 3 按讚人數: 9\n",
      "標題: 同學！交出你的狗！ 貼文時間: 2020-02-11T01:13:29.232Z 留言人數: 0 按讚人數: 7\n",
      "標題: 太自私了！我好難過.... 貼文時間: 2020-02-10T16:18:29.550Z 留言人數: 2 按讚人數: 7\n",
      "標題: 求高雄寵物刺青推薦！ 貼文時間: 2020-02-10T09:50:12.072Z 留言人數: 0 按讚人數: 7\n",
      "標題: 有鳥類愛好者嗎？ 貼文時間: 2020-02-10T04:11:39.887Z 留言人數: 3 按讚人數: 7\n",
      "標題: 原來是騎士？ 貼文時間: 2020-02-10T14:34:04.153Z 留言人數: 0 按讚人數: 6\n",
      "標題: 致全世界最乖的狗 貼文時間: 2020-02-10T14:31:56.385Z 留言人數: 1 按讚人數: 6\n",
      "標題: 各種奇特的睡覺姿勢 貼文時間: 2020-02-10T08:29:41.268Z 留言人數: 0 按讚人數: 6\n",
      "標題: 家裡多了一顆球🐭 貼文時間: 2020-02-11T02:49:10.052Z 留言人數: 5 按讚人數: 5\n",
      "標題: #柴犬 #分享 八斗柴堡（江戶柴莊）犬舍 貼文時間: 2020-02-10T15:05:05.884Z 留言人數: 2 按讚人數: 5\n",
      "標題: 守候的幸福感 貼文時間: 2020-02-10T12:21:32.878Z 留言人數: 0 按讚人數: 5\n",
      "標題: #求問 巴西黃耳龜背部白白的 貼文時間: 2020-02-10T15:01:32.617Z 留言人數: 0 按讚人數: 4\n",
      "標題: 直擊心臟的可愛卯咪 貼文時間: 2020-02-10T07:32:09.597Z 留言人數: 2 按讚人數: 4\n"
     ]
    }
   ],
   "source": [
    "# 2. 取出每一筆資料的「標題」、「貼文時間」、「留言人數」、「按讚人數」\n",
    "\n",
    "for d in data:\n",
    "    print('標題:', d['title'], '貼文時間:', d['createdAt'], '留言人數:', d['commentCount'], '按讚人數:', d['likeCount'])"
   ]
  },
  {
   "cell_type": "code",
   "execution_count": 3,
   "metadata": {},
   "outputs": [
    {
     "name": "stdout",
     "output_type": "stream",
     "text": [
      "熱門文章的「平均留言人數」: 3.7666666666666666\n",
      "熱門文章的「平均按讚人數」: 58.61666666666667\n",
      "非熱門文章的「平均留言人數」: 3.7666666666666666\n",
      "非熱門文章的「平均按讚人數」: 3.15\n"
     ]
    }
   ],
   "source": [
    "# 3. 計算熱門/非熱門文章的「平均留言人數」與「平均按讚人數」\n",
    "\n",
    "# 先初始設定熱門文章數量\n",
    "count_number = 0\n",
    "\n",
    "# 計算熱門文章的「平均留言人數」\n",
    "comment_count = 0\n",
    "for comment in data:\n",
    "    count_number += 1\n",
    "    comment_count += comment['commentCount']\n",
    "\n",
    "print('熱門文章的「平均留言人數」:', comment_count/count_number)\n",
    "\n",
    "# 計算熱門文章的「平均按讚人數」\n",
    "like_count = 0\n",
    "\n",
    "for like in data:\n",
    "    count_number += 1\n",
    "    like_count += like['likeCount']\n",
    "\n",
    "print('熱門文章的「平均按讚人數」:', like_count/count_number)\n",
    "\n",
    "# 取得非熱門文章資料\n",
    "# 引入函式庫 ps.f為false之意\n",
    "rf = requests.get('https://www.dcard.tw/_api/forums/pet/posts?popular=false')\n",
    "# 想要爬資料的⽬標網址\n",
    "responsef = rf.text\n",
    "\n",
    "dataf = json.loads(responsef)\n",
    "\n",
    "# 先初始設定非熱門文章數量\n",
    "countf_number = 0\n",
    "\n",
    "# 計算熱門文章的「平均留言人數」\n",
    "commentf_count = 0\n",
    "for commentf in data:\n",
    "    countf_number += 1\n",
    "    commentf_count += commentf['commentCount']\n",
    "\n",
    "print('非熱門文章的「平均留言人數」:', commentf_count/countf_number)\n",
    "\n",
    "# 計算非熱門文章的「平均按讚人數」\n",
    "likef_count = 0\n",
    "\n",
    "for likef in dataf:\n",
    "    countf_number +=1\n",
    "    likef_count += likef['likeCount']\n",
    "print('非熱門文章的「平均按讚人數」:', likef_count/countf_number)"
   ]
  },
  {
   "cell_type": "code",
   "execution_count": null,
   "metadata": {},
   "outputs": [],
   "source": []
  },
  {
   "cell_type": "code",
   "execution_count": null,
   "metadata": {},
   "outputs": [],
   "source": []
  }
 ],
 "metadata": {
  "kernelspec": {
   "display_name": "Python 3",
   "language": "python",
   "name": "python3"
  },
  "language_info": {
   "codemirror_mode": {
    "name": "ipython",
    "version": 3
   },
   "file_extension": ".py",
   "mimetype": "text/x-python",
   "name": "python",
   "nbconvert_exporter": "python",
   "pygments_lexer": "ipython3",
   "version": "3.7.3"
  }
 },
 "nbformat": 4,
 "nbformat_minor": 2
}
